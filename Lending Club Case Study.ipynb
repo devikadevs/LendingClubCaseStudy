{
 "cells": [
  {
   "cell_type": "markdown",
   "id": "1c5afc4d",
   "metadata": {},
   "source": [
    "# PG Diploma - Machine Learning and Artificial Intelligence Lending Club Case Study\n",
    "\n",
    "The Aim of the case study is to identify the potential risks associated with the bank’s decision to provide the loan, based on the customers past loan applicants whether they ‘defaulted’ on loans or not and to minimise the risk of losing money. Identifying the risks involved using EDA."
   ]
  },
  {
   "cell_type": "code",
   "execution_count": 55,
   "id": "e551431a",
   "metadata": {},
   "outputs": [],
   "source": [
    "#importing the libraries\n",
    "\n",
    "import pandas as pd\n",
    "import matplotlib.pyplot as plt\n",
    "import numpy as np\n",
    "import seaborn as sns\n",
    "from matplotlib import style"
   ]
  },
  {
   "cell_type": "code",
   "execution_count": 2,
   "id": "9209155c",
   "metadata": {},
   "outputs": [
    {
     "name": "stderr",
     "output_type": "stream",
     "text": [
      "C:\\Users\\singhmd\\Anaconda3\\lib\\site-packages\\IPython\\core\\interactiveshell.py:3444: DtypeWarning: Columns (47) have mixed types.Specify dtype option on import or set low_memory=False.\n",
      "  exec(code_obj, self.user_global_ns, self.user_ns)\n"
     ]
    }
   ],
   "source": [
    "#importing the data and encoding it using the ISO 8859-1\n",
    "\n",
    "df = pd.read_csv('loan.csv',encoding = \"ISO-8859-1\")\n"
   ]
  },
  {
   "cell_type": "code",
   "execution_count": 4,
   "id": "8e1a80e3",
   "metadata": {
    "scrolled": true
   },
   "outputs": [
    {
     "name": "stdout",
     "output_type": "stream",
     "text": [
      "(39717, 111)\n"
     ]
    },
    {
     "data": {
      "text/html": [
       "<div>\n",
       "<style scoped>\n",
       "    .dataframe tbody tr th:only-of-type {\n",
       "        vertical-align: middle;\n",
       "    }\n",
       "\n",
       "    .dataframe tbody tr th {\n",
       "        vertical-align: top;\n",
       "    }\n",
       "\n",
       "    .dataframe thead th {\n",
       "        text-align: right;\n",
       "    }\n",
       "</style>\n",
       "<table border=\"1\" class=\"dataframe\">\n",
       "  <thead>\n",
       "    <tr style=\"text-align: right;\">\n",
       "      <th></th>\n",
       "      <th>id</th>\n",
       "      <th>member_id</th>\n",
       "      <th>loan_amnt</th>\n",
       "      <th>funded_amnt</th>\n",
       "      <th>funded_amnt_inv</th>\n",
       "      <th>installment</th>\n",
       "      <th>annual_inc</th>\n",
       "      <th>dti</th>\n",
       "      <th>delinq_2yrs</th>\n",
       "      <th>inq_last_6mths</th>\n",
       "      <th>...</th>\n",
       "      <th>num_tl_90g_dpd_24m</th>\n",
       "      <th>num_tl_op_past_12m</th>\n",
       "      <th>pct_tl_nvr_dlq</th>\n",
       "      <th>percent_bc_gt_75</th>\n",
       "      <th>pub_rec_bankruptcies</th>\n",
       "      <th>tax_liens</th>\n",
       "      <th>tot_hi_cred_lim</th>\n",
       "      <th>total_bal_ex_mort</th>\n",
       "      <th>total_bc_limit</th>\n",
       "      <th>total_il_high_credit_limit</th>\n",
       "    </tr>\n",
       "  </thead>\n",
       "  <tbody>\n",
       "    <tr>\n",
       "      <th>count</th>\n",
       "      <td>3.971700e+04</td>\n",
       "      <td>3.971700e+04</td>\n",
       "      <td>39717.000000</td>\n",
       "      <td>39717.000000</td>\n",
       "      <td>39717.000000</td>\n",
       "      <td>39717.000000</td>\n",
       "      <td>3.971700e+04</td>\n",
       "      <td>39717.000000</td>\n",
       "      <td>39717.000000</td>\n",
       "      <td>39717.000000</td>\n",
       "      <td>...</td>\n",
       "      <td>0.0</td>\n",
       "      <td>0.0</td>\n",
       "      <td>0.0</td>\n",
       "      <td>0.0</td>\n",
       "      <td>39020.000000</td>\n",
       "      <td>39678.0</td>\n",
       "      <td>0.0</td>\n",
       "      <td>0.0</td>\n",
       "      <td>0.0</td>\n",
       "      <td>0.0</td>\n",
       "    </tr>\n",
       "    <tr>\n",
       "      <th>mean</th>\n",
       "      <td>6.831319e+05</td>\n",
       "      <td>8.504636e+05</td>\n",
       "      <td>11219.443815</td>\n",
       "      <td>10947.713196</td>\n",
       "      <td>10397.448868</td>\n",
       "      <td>324.561922</td>\n",
       "      <td>6.896893e+04</td>\n",
       "      <td>13.315130</td>\n",
       "      <td>0.146512</td>\n",
       "      <td>0.869200</td>\n",
       "      <td>...</td>\n",
       "      <td>NaN</td>\n",
       "      <td>NaN</td>\n",
       "      <td>NaN</td>\n",
       "      <td>NaN</td>\n",
       "      <td>0.043260</td>\n",
       "      <td>0.0</td>\n",
       "      <td>NaN</td>\n",
       "      <td>NaN</td>\n",
       "      <td>NaN</td>\n",
       "      <td>NaN</td>\n",
       "    </tr>\n",
       "    <tr>\n",
       "      <th>std</th>\n",
       "      <td>2.106941e+05</td>\n",
       "      <td>2.656783e+05</td>\n",
       "      <td>7456.670694</td>\n",
       "      <td>7187.238670</td>\n",
       "      <td>7128.450439</td>\n",
       "      <td>208.874874</td>\n",
       "      <td>6.379377e+04</td>\n",
       "      <td>6.678594</td>\n",
       "      <td>0.491812</td>\n",
       "      <td>1.070219</td>\n",
       "      <td>...</td>\n",
       "      <td>NaN</td>\n",
       "      <td>NaN</td>\n",
       "      <td>NaN</td>\n",
       "      <td>NaN</td>\n",
       "      <td>0.204324</td>\n",
       "      <td>0.0</td>\n",
       "      <td>NaN</td>\n",
       "      <td>NaN</td>\n",
       "      <td>NaN</td>\n",
       "      <td>NaN</td>\n",
       "    </tr>\n",
       "    <tr>\n",
       "      <th>min</th>\n",
       "      <td>5.473400e+04</td>\n",
       "      <td>7.069900e+04</td>\n",
       "      <td>500.000000</td>\n",
       "      <td>500.000000</td>\n",
       "      <td>0.000000</td>\n",
       "      <td>15.690000</td>\n",
       "      <td>4.000000e+03</td>\n",
       "      <td>0.000000</td>\n",
       "      <td>0.000000</td>\n",
       "      <td>0.000000</td>\n",
       "      <td>...</td>\n",
       "      <td>NaN</td>\n",
       "      <td>NaN</td>\n",
       "      <td>NaN</td>\n",
       "      <td>NaN</td>\n",
       "      <td>0.000000</td>\n",
       "      <td>0.0</td>\n",
       "      <td>NaN</td>\n",
       "      <td>NaN</td>\n",
       "      <td>NaN</td>\n",
       "      <td>NaN</td>\n",
       "    </tr>\n",
       "    <tr>\n",
       "      <th>25%</th>\n",
       "      <td>5.162210e+05</td>\n",
       "      <td>6.667800e+05</td>\n",
       "      <td>5500.000000</td>\n",
       "      <td>5400.000000</td>\n",
       "      <td>5000.000000</td>\n",
       "      <td>167.020000</td>\n",
       "      <td>4.040400e+04</td>\n",
       "      <td>8.170000</td>\n",
       "      <td>0.000000</td>\n",
       "      <td>0.000000</td>\n",
       "      <td>...</td>\n",
       "      <td>NaN</td>\n",
       "      <td>NaN</td>\n",
       "      <td>NaN</td>\n",
       "      <td>NaN</td>\n",
       "      <td>0.000000</td>\n",
       "      <td>0.0</td>\n",
       "      <td>NaN</td>\n",
       "      <td>NaN</td>\n",
       "      <td>NaN</td>\n",
       "      <td>NaN</td>\n",
       "    </tr>\n",
       "    <tr>\n",
       "      <th>50%</th>\n",
       "      <td>6.656650e+05</td>\n",
       "      <td>8.508120e+05</td>\n",
       "      <td>10000.000000</td>\n",
       "      <td>9600.000000</td>\n",
       "      <td>8975.000000</td>\n",
       "      <td>280.220000</td>\n",
       "      <td>5.900000e+04</td>\n",
       "      <td>13.400000</td>\n",
       "      <td>0.000000</td>\n",
       "      <td>1.000000</td>\n",
       "      <td>...</td>\n",
       "      <td>NaN</td>\n",
       "      <td>NaN</td>\n",
       "      <td>NaN</td>\n",
       "      <td>NaN</td>\n",
       "      <td>0.000000</td>\n",
       "      <td>0.0</td>\n",
       "      <td>NaN</td>\n",
       "      <td>NaN</td>\n",
       "      <td>NaN</td>\n",
       "      <td>NaN</td>\n",
       "    </tr>\n",
       "    <tr>\n",
       "      <th>75%</th>\n",
       "      <td>8.377550e+05</td>\n",
       "      <td>1.047339e+06</td>\n",
       "      <td>15000.000000</td>\n",
       "      <td>15000.000000</td>\n",
       "      <td>14400.000000</td>\n",
       "      <td>430.780000</td>\n",
       "      <td>8.230000e+04</td>\n",
       "      <td>18.600000</td>\n",
       "      <td>0.000000</td>\n",
       "      <td>1.000000</td>\n",
       "      <td>...</td>\n",
       "      <td>NaN</td>\n",
       "      <td>NaN</td>\n",
       "      <td>NaN</td>\n",
       "      <td>NaN</td>\n",
       "      <td>0.000000</td>\n",
       "      <td>0.0</td>\n",
       "      <td>NaN</td>\n",
       "      <td>NaN</td>\n",
       "      <td>NaN</td>\n",
       "      <td>NaN</td>\n",
       "    </tr>\n",
       "    <tr>\n",
       "      <th>max</th>\n",
       "      <td>1.077501e+06</td>\n",
       "      <td>1.314167e+06</td>\n",
       "      <td>35000.000000</td>\n",
       "      <td>35000.000000</td>\n",
       "      <td>35000.000000</td>\n",
       "      <td>1305.190000</td>\n",
       "      <td>6.000000e+06</td>\n",
       "      <td>29.990000</td>\n",
       "      <td>11.000000</td>\n",
       "      <td>8.000000</td>\n",
       "      <td>...</td>\n",
       "      <td>NaN</td>\n",
       "      <td>NaN</td>\n",
       "      <td>NaN</td>\n",
       "      <td>NaN</td>\n",
       "      <td>2.000000</td>\n",
       "      <td>0.0</td>\n",
       "      <td>NaN</td>\n",
       "      <td>NaN</td>\n",
       "      <td>NaN</td>\n",
       "      <td>NaN</td>\n",
       "    </tr>\n",
       "  </tbody>\n",
       "</table>\n",
       "<p>8 rows × 87 columns</p>\n",
       "</div>"
      ],
      "text/plain": [
       "                 id     member_id     loan_amnt   funded_amnt  \\\n",
       "count  3.971700e+04  3.971700e+04  39717.000000  39717.000000   \n",
       "mean   6.831319e+05  8.504636e+05  11219.443815  10947.713196   \n",
       "std    2.106941e+05  2.656783e+05   7456.670694   7187.238670   \n",
       "min    5.473400e+04  7.069900e+04    500.000000    500.000000   \n",
       "25%    5.162210e+05  6.667800e+05   5500.000000   5400.000000   \n",
       "50%    6.656650e+05  8.508120e+05  10000.000000   9600.000000   \n",
       "75%    8.377550e+05  1.047339e+06  15000.000000  15000.000000   \n",
       "max    1.077501e+06  1.314167e+06  35000.000000  35000.000000   \n",
       "\n",
       "       funded_amnt_inv   installment    annual_inc           dti  \\\n",
       "count     39717.000000  39717.000000  3.971700e+04  39717.000000   \n",
       "mean      10397.448868    324.561922  6.896893e+04     13.315130   \n",
       "std        7128.450439    208.874874  6.379377e+04      6.678594   \n",
       "min           0.000000     15.690000  4.000000e+03      0.000000   \n",
       "25%        5000.000000    167.020000  4.040400e+04      8.170000   \n",
       "50%        8975.000000    280.220000  5.900000e+04     13.400000   \n",
       "75%       14400.000000    430.780000  8.230000e+04     18.600000   \n",
       "max       35000.000000   1305.190000  6.000000e+06     29.990000   \n",
       "\n",
       "        delinq_2yrs  inq_last_6mths  ...  num_tl_90g_dpd_24m  \\\n",
       "count  39717.000000    39717.000000  ...                 0.0   \n",
       "mean       0.146512        0.869200  ...                 NaN   \n",
       "std        0.491812        1.070219  ...                 NaN   \n",
       "min        0.000000        0.000000  ...                 NaN   \n",
       "25%        0.000000        0.000000  ...                 NaN   \n",
       "50%        0.000000        1.000000  ...                 NaN   \n",
       "75%        0.000000        1.000000  ...                 NaN   \n",
       "max       11.000000        8.000000  ...                 NaN   \n",
       "\n",
       "       num_tl_op_past_12m  pct_tl_nvr_dlq  percent_bc_gt_75  \\\n",
       "count                 0.0             0.0               0.0   \n",
       "mean                  NaN             NaN               NaN   \n",
       "std                   NaN             NaN               NaN   \n",
       "min                   NaN             NaN               NaN   \n",
       "25%                   NaN             NaN               NaN   \n",
       "50%                   NaN             NaN               NaN   \n",
       "75%                   NaN             NaN               NaN   \n",
       "max                   NaN             NaN               NaN   \n",
       "\n",
       "       pub_rec_bankruptcies  tax_liens  tot_hi_cred_lim  total_bal_ex_mort  \\\n",
       "count          39020.000000    39678.0              0.0                0.0   \n",
       "mean               0.043260        0.0              NaN                NaN   \n",
       "std                0.204324        0.0              NaN                NaN   \n",
       "min                0.000000        0.0              NaN                NaN   \n",
       "25%                0.000000        0.0              NaN                NaN   \n",
       "50%                0.000000        0.0              NaN                NaN   \n",
       "75%                0.000000        0.0              NaN                NaN   \n",
       "max                2.000000        0.0              NaN                NaN   \n",
       "\n",
       "       total_bc_limit  total_il_high_credit_limit  \n",
       "count             0.0                         0.0  \n",
       "mean              NaN                         NaN  \n",
       "std               NaN                         NaN  \n",
       "min               NaN                         NaN  \n",
       "25%               NaN                         NaN  \n",
       "50%               NaN                         NaN  \n",
       "75%               NaN                         NaN  \n",
       "max               NaN                         NaN  \n",
       "\n",
       "[8 rows x 87 columns]"
      ]
     },
     "execution_count": 4,
     "metadata": {},
     "output_type": "execute_result"
    }
   ],
   "source": [
    "# The shape of an array can be defined as the number of elements in each dimension.\n",
    "\n",
    "print(df.shape)\n",
    "df.describe()"
   ]
  },
  {
   "cell_type": "markdown",
   "id": "e564610b",
   "metadata": {},
   "source": [
    "--> It is seen that there are few columns with missing values in the above output.Let us remove these columns as a process of data cleansing."
   ]
  },
  {
   "cell_type": "code",
   "execution_count": 56,
   "id": "ebf2f329",
   "metadata": {
    "scrolled": true
   },
   "outputs": [
    {
     "data": {
      "text/plain": [
       "Series([], dtype: float64)"
      ]
     },
     "execution_count": 56,
     "metadata": {},
     "output_type": "execute_result"
    }
   ],
   "source": [
    "missing = round(100*(df.isnull().sum()/len(df.id)), 2)\n",
    "missing.loc[missing > 0]"
   ]
  },
  {
   "cell_type": "code",
   "execution_count": 6,
   "id": "47b32c89",
   "metadata": {},
   "outputs": [
    {
     "data": {
      "text/plain": [
       "57"
      ]
     },
     "execution_count": 6,
     "metadata": {},
     "output_type": "execute_result"
    }
   ],
   "source": [
    "# Identifying the columns with greater than/equal to 50% missing values\n",
    "\n",
    "missing_columns = list(missing[missing >= 50].index)\n",
    "\n",
    "len(missing_columns)"
   ]
  },
  {
   "cell_type": "markdown",
   "id": "7c31d3ef",
   "metadata": {},
   "source": [
    "--> It is seen that 57 columns have more than 50% missing values. Hence removing these columns."
   ]
  },
  {
   "cell_type": "code",
   "execution_count": 7,
   "id": "76228b51",
   "metadata": {},
   "outputs": [
    {
     "name": "stdout",
     "output_type": "stream",
     "text": [
      "Actual Shape : (39717, 111)\n",
      "Shape after removing missing values with >=50% : (39717, 54)\n"
     ]
    }
   ],
   "source": [
    "print(\"Actual Shape :\",df.shape)\n",
    "\n",
    "df = df.drop(missing_columns,axis=1)\n",
    "print(\"Shape after removing missing values with >=50% :\",df.shape)"
   ]
  },
  {
   "cell_type": "markdown",
   "id": "5d310206",
   "metadata": {},
   "source": [
    "--> The Data contained 111 the columns, since we eliminated the columns with missing values and columns with 50% data.\n",
    "The number of columns have been cleaned and currently we have 54 columns in place.\n"
   ]
  },
  {
   "cell_type": "code",
   "execution_count": 8,
   "id": "c464bbe9",
   "metadata": {},
   "outputs": [
    {
     "data": {
      "text/plain": [
       "emp_title                      6.19\n",
       "emp_length                     2.71\n",
       "desc                          32.58\n",
       "title                          0.03\n",
       "revol_util                     0.13\n",
       "last_pymnt_d                   0.18\n",
       "last_credit_pull_d             0.01\n",
       "collections_12_mths_ex_med     0.14\n",
       "chargeoff_within_12_mths       0.14\n",
       "pub_rec_bankruptcies           1.75\n",
       "tax_liens                      0.10\n",
       "dtype: float64"
      ]
     },
     "execution_count": 8,
     "metadata": {},
     "output_type": "execute_result"
    }
   ],
   "source": [
    "# It is seen that there are few columns with null values.Let us remove these columns as a process of data cleansing.\n",
    "\n",
    "missing_remaining = round(100*(df.isnull().sum()/len(df.id)), 2)\n",
    "missing_remaining[missing_remaining != 0]"
   ]
  },
  {
   "cell_type": "code",
   "execution_count": 9,
   "id": "bf780a6f",
   "metadata": {},
   "outputs": [],
   "source": [
    "# Dropping the Desc column.\n",
    "df = df.drop('desc',axis=1)"
   ]
  },
  {
   "cell_type": "code",
   "execution_count": 10,
   "id": "3db6254f",
   "metadata": {},
   "outputs": [
    {
     "name": "stdout",
     "output_type": "stream",
     "text": [
      "no. of unique values for \"emp_title\" : 28821\n",
      "no. of unique values for \"emp_length\" : 12\n",
      "no. of unique values for \"title\" : 19616\n",
      "no. of unique values for \"revol_util\" : 1090\n",
      "no. of unique values for \"last_pymnt_d\" : 102\n",
      "no. of unique values for \"last_credit_pull_d\" : 107\n",
      "no. of unique values for \"collections_12_mths_ex_med\" : 2\n",
      "no. of unique values for \"chargeoff_within_12_mths\" : 2\n",
      "no. of unique values for \"pub_rec_bankruptcies\" : 4\n",
      "no. of unique values for \"tax_liens\" : 2\n"
     ]
    }
   ],
   "source": [
    "# Sorting for unique values.\n",
    "\n",
    "print(\"no. of unique values for \\\"emp_title\\\" :\",len(df.emp_title.unique()))\n",
    "print(\"no. of unique values for \\\"emp_length\\\" :\",len(df.emp_length.unique()))\n",
    "print(\"no. of unique values for \\\"title\\\" :\",len(df.title.unique()))\n",
    "print(\"no. of unique values for \\\"revol_util\\\" :\",len(df.revol_util.unique()))\n",
    "print(\"no. of unique values for \\\"last_pymnt_d\\\" :\",len(df.last_pymnt_d.unique()))\n",
    "print(\"no. of unique values for \\\"last_credit_pull_d\\\" :\",len(df.last_credit_pull_d.unique()))\n",
    "print(\"no. of unique values for \\\"collections_12_mths_ex_med\\\" :\",len(df.collections_12_mths_ex_med.unique()))\n",
    "print(\"no. of unique values for \\\"chargeoff_within_12_mths\\\" :\",len(df.chargeoff_within_12_mths.unique()))\n",
    "print(\"no. of unique values for \\\"pub_rec_bankruptcies\\\" :\",len(df.pub_rec_bankruptcies.unique()))\n",
    "print(\"no. of unique values for \\\"tax_liens\\\" :\",len(df.tax_liens.unique()))"
   ]
  },
  {
   "cell_type": "markdown",
   "id": "580ff3ab",
   "metadata": {},
   "source": [
    "Columns emp_length, collections_12_mths_ex_med, chargeoff_within_12_mths, pub_rec_bankruptcies and tax_liens are categorical in nature."
   ]
  },
  {
   "cell_type": "code",
   "execution_count": 11,
   "id": "e84c76cd",
   "metadata": {},
   "outputs": [
    {
     "name": "stdout",
     "output_type": "stream",
     "text": [
      "Different values of \"emp_length\":  ['10+ years' '< 1 year' '1 year' '3 years' '8 years' '9 years' '4 years'\n",
      " '5 years' '6 years' '2 years' '7 years' nan] \n",
      "\n",
      "Different values of \"collections_12_mths_ex_med\":  [ 0. nan] \n",
      "\n",
      "Different values of \"chargeoff_within_12_mths\":  [ 0. nan] \n",
      "\n",
      "Different values of \"pub_rec_bankruptcies\":  [ 0.  1.  2. nan] \n",
      "\n",
      "Different values of \"tax_liens\":  [ 0. nan] \n",
      "\n"
     ]
    }
   ],
   "source": [
    "print(\"Different values of \\\"emp_length\\\": \",df.emp_length.unique(),\"\\n\")\n",
    "print(\"Different values of \\\"collections_12_mths_ex_med\\\": \",df.collections_12_mths_ex_med.unique(),\"\\n\")\n",
    "print(\"Different values of \\\"chargeoff_within_12_mths\\\": \",df.chargeoff_within_12_mths.unique(),\"\\n\")\n",
    "print(\"Different values of \\\"pub_rec_bankruptcies\\\": \",df.pub_rec_bankruptcies.unique(),\"\\n\")\n",
    "print(\"Different values of \\\"tax_liens\\\": \",df.tax_liens.unique(),\"\\n\")"
   ]
  },
  {
   "cell_type": "markdown",
   "id": "c384ed1c",
   "metadata": {},
   "source": [
    "--> Cleansing further we noticed that collections_12_mths_ex_med, chargeoff_within_12_mths and tax_liens only have values 0 hence dropping them."
   ]
  },
  {
   "cell_type": "code",
   "execution_count": 12,
   "id": "2f1f02aa",
   "metadata": {},
   "outputs": [],
   "source": [
    "drop_columns = ['collections_12_mths_ex_med', 'chargeoff_within_12_mths', 'tax_liens']\n",
    "df = df.drop(drop_columns,axis=1)"
   ]
  },
  {
   "cell_type": "code",
   "execution_count": 13,
   "id": "1730f24b",
   "metadata": {},
   "outputs": [
    {
     "data": {
      "text/plain": [
       "(39717, 50)"
      ]
     },
     "execution_count": 13,
     "metadata": {},
     "output_type": "execute_result"
    }
   ],
   "source": [
    "df.shape\n"
   ]
  },
  {
   "cell_type": "markdown",
   "id": "6e1d3237",
   "metadata": {},
   "source": [
    "--> let us analyse the columng pub_rec_bankruptcies, which will provide a history of public record bankruptcies."
   ]
  },
  {
   "cell_type": "code",
   "execution_count": 14,
   "id": "5d91f869",
   "metadata": {},
   "outputs": [
    {
     "data": {
      "text/plain": [
       "0.0    37339\n",
       "1.0     1674\n",
       "2.0        7\n",
       "Name: pub_rec_bankruptcies, dtype: int64"
      ]
     },
     "execution_count": 14,
     "metadata": {},
     "output_type": "execute_result"
    }
   ],
   "source": [
    "df.pub_rec_bankruptcies.value_counts()\n"
   ]
  },
  {
   "cell_type": "markdown",
   "id": "7da9901c",
   "metadata": {},
   "source": [
    "--> Dropping the rows as we don't add any unnecessary bias in our dataset."
   ]
  },
  {
   "cell_type": "code",
   "execution_count": 15,
   "id": "97093088",
   "metadata": {},
   "outputs": [],
   "source": [
    "df=df[~df.pub_rec_bankruptcies.isnull()]\n"
   ]
  },
  {
   "cell_type": "code",
   "execution_count": 16,
   "id": "94514ece",
   "metadata": {},
   "outputs": [
    {
     "data": {
      "text/plain": [
       "emp_title       6.19\n",
       "emp_length      2.75\n",
       "title           0.03\n",
       "revol_util      0.13\n",
       "last_pymnt_d    0.18\n",
       "dtype: float64"
      ]
     },
     "execution_count": 16,
     "metadata": {},
     "output_type": "execute_result"
    }
   ],
   "source": [
    "missing = round(100*(df.isnull().sum()/len(df.id)), 2) \n",
    "missing[missing != 0]"
   ]
  },
  {
   "cell_type": "markdown",
   "id": "bd918635",
   "metadata": {},
   "source": [
    "The columns emp_title and emp_length have 6.19% and 2.71% missing values, lets drop them as a process of data cleaning."
   ]
  },
  {
   "cell_type": "code",
   "execution_count": 17,
   "id": "9755ed29",
   "metadata": {},
   "outputs": [],
   "source": [
    "df=df[~df.emp_title.isnull()]\n",
    "df=df[~df.emp_length.isnull()]"
   ]
  },
  {
   "cell_type": "code",
   "execution_count": 18,
   "id": "0eb46ac1",
   "metadata": {},
   "outputs": [
    {
     "name": "stdout",
     "output_type": "stream",
     "text": [
      "(36548, 50)\n"
     ]
    }
   ],
   "source": [
    "print(df.shape)\n"
   ]
  },
  {
   "cell_type": "markdown",
   "id": "27e95cb5",
   "metadata": {},
   "source": [
    "--> Now, we are left with title, revol_util and last_pymnt_d with minimal amount of missing values - 0.02%, 0.13% and 0.18% respectively. title tells us about the title of the loan specified by the borrower in the application. revol_util gives the revolving line utelization and last_pymnt_d gives the month in which last payment was received.\n",
    "\n",
    "Let's again remove the rows with missing values for these columns."
   ]
  },
  {
   "cell_type": "code",
   "execution_count": 19,
   "id": "d9faa472",
   "metadata": {},
   "outputs": [],
   "source": [
    "df=df[~df.title.isnull()]\n",
    "df=df[~df.revol_util.isnull()]\n",
    "df=df[~df.last_pymnt_d.isnull()]"
   ]
  },
  {
   "cell_type": "code",
   "execution_count": 20,
   "id": "3031d873",
   "metadata": {},
   "outputs": [
    {
     "data": {
      "text/plain": [
       "(36433, 50)"
      ]
     },
     "execution_count": 20,
     "metadata": {},
     "output_type": "execute_result"
    }
   ],
   "source": [
    "df.shape"
   ]
  },
  {
   "cell_type": "code",
   "execution_count": 21,
   "id": "84ecc2cc",
   "metadata": {},
   "outputs": [
    {
     "data": {
      "text/plain": [
       "Series([], dtype: float64)"
      ]
     },
     "execution_count": 21,
     "metadata": {},
     "output_type": "execute_result"
    }
   ],
   "source": [
    "missing =round(100*(df.isnull().sum()/len(df.id)), 2) \n",
    "missing[missing != 0]"
   ]
  },
  {
   "cell_type": "markdown",
   "id": "226299cd",
   "metadata": {},
   "source": [
    "--> We have sorted and cleaned the columns in the data, with the missing values and incomplete values.\n",
    "--> After data cleaning we have about 36433 loan records and 50 columns with no missing or incomplete values."
   ]
  },
  {
   "cell_type": "code",
   "execution_count": 22,
   "id": "f77c58be",
   "metadata": {},
   "outputs": [],
   "source": [
    "#  let us save it into another file clean.csv and use it for further analysis\n",
    "\n",
    "df.to_csv('clean.csv', encoding='ISO-8859-1', index=False)"
   ]
  },
  {
   "cell_type": "code",
   "execution_count": 23,
   "id": "fa79f661",
   "metadata": {},
   "outputs": [],
   "source": [
    "cleaned_data = pd.read_csv('clean.csv',encoding='utf-8')"
   ]
  },
  {
   "cell_type": "code",
   "execution_count": 24,
   "id": "54c1555c",
   "metadata": {},
   "outputs": [
    {
     "data": {
      "text/plain": [
       "acc_now_delinq                 1\n",
       "application_type               1\n",
       "policy_code                    1\n",
       "initial_list_status            1\n",
       "delinq_amnt                    1\n",
       "pymnt_plan                     1\n",
       "term                           2\n",
       "pub_rec_bankruptcies           3\n",
       "loan_status                    3\n",
       "verification_status            3\n",
       "home_ownership                 4\n",
       "pub_rec                        5\n",
       "grade                          7\n",
       "inq_last_6mths                 9\n",
       "delinq_2yrs                   11\n",
       "emp_length                    11\n",
       "purpose                       14\n",
       "sub_grade                     35\n",
       "open_acc                      38\n",
       "addr_state                    49\n",
       "issue_d                       52\n",
       "total_acc                     79\n",
       "last_credit_pull_d            96\n",
       "last_pymnt_d                  97\n",
       "int_rate                     334\n",
       "earliest_cr_line             510\n",
       "zip_code                     806\n",
       "loan_amnt                    863\n",
       "funded_amnt                 1024\n",
       "out_prncp                   1064\n",
       "out_prncp_inv               1065\n",
       "revol_util                  1082\n",
       "total_rec_late_fee          1194\n",
       "collection_recovery_fee     2386\n",
       "dti                         2857\n",
       "recoveries                  3585\n",
       "annual_inc                  4924\n",
       "total_rec_prncp             7254\n",
       "funded_amnt_inv             7474\n",
       "installment                14367\n",
       "title                      17954\n",
       "revol_bal                  20790\n",
       "emp_title                  28207\n",
       "last_pymnt_amnt            32467\n",
       "total_rec_int              32523\n",
       "total_pymnt_inv            34524\n",
       "total_pymnt                34802\n",
       "url                        36433\n",
       "member_id                  36433\n",
       "id                         36433\n",
       "dtype: int64"
      ]
     },
     "execution_count": 24,
     "metadata": {},
     "output_type": "execute_result"
    }
   ],
   "source": [
    "cleaned_data.nunique().sort_values()\n"
   ]
  },
  {
   "cell_type": "markdown",
   "id": "b9ca98fb",
   "metadata": {},
   "source": [
    "--> Further we will make use of the data dictionary.xlsx to understand the remaining columns and remove the unecessary columns for better data analysis.\n",
    "\n",
    "Dropping the below mentioned columns from the df."
   ]
  },
  {
   "cell_type": "code",
   "execution_count": 25,
   "id": "a4f45ceb",
   "metadata": {},
   "outputs": [],
   "source": [
    "dropped_cols = ['id','member_id','funded_amnt','funded_amnt_inv','pymnt_plan','url','zip_code','initial_list_status','policy_code','application_type','acc_now_delinq','delinq_amnt',]\n",
    "cleaned_data= cleaned_data.drop(dropped_cols,axis=1)"
   ]
  },
  {
   "cell_type": "code",
   "execution_count": 26,
   "id": "942daa69",
   "metadata": {},
   "outputs": [
    {
     "data": {
      "text/plain": [
       "(36433, 38)"
      ]
     },
     "execution_count": 26,
     "metadata": {},
     "output_type": "execute_result"
    }
   ],
   "source": [
    "cleaned_data.shape\n"
   ]
  },
  {
   "cell_type": "markdown",
   "id": "4ed0964d",
   "metadata": {},
   "source": [
    "--> By removing the columns we have reduced the data to 38 columns.\n",
    "\n",
    "We can round off the values for certain columns up until two decimal places. These columns are:\n",
    "\n",
    "total_pymnt\n",
    "total_rec_late_fee\n",
    "collection_recovery_fee"
   ]
  },
  {
   "cell_type": "code",
   "execution_count": 27,
   "id": "e3453670",
   "metadata": {},
   "outputs": [
    {
     "data": {
      "text/plain": [
       "5661.170000     1\n",
       "40297.372600    1\n",
       "9536.544293     1\n",
       "4577.397548     1\n",
       "3579.662273     1\n",
       "Name: total_pymnt, dtype: int64"
      ]
     },
     "execution_count": 27,
     "metadata": {},
     "output_type": "execute_result"
    }
   ],
   "source": [
    "cleaned_data.total_pymnt.value_counts().tail()\n"
   ]
  },
  {
   "cell_type": "code",
   "execution_count": 28,
   "id": "ceba27bd",
   "metadata": {},
   "outputs": [
    {
     "data": {
      "text/plain": [
       "30.260000    1\n",
       "14.946207    1\n",
       "25.530000    1\n",
       "14.987132    1\n",
       "52.262227    1\n",
       "Name: total_rec_late_fee, dtype: int64"
      ]
     },
     "execution_count": 28,
     "metadata": {},
     "output_type": "execute_result"
    }
   ],
   "source": [
    "cleaned_data.total_rec_late_fee.value_counts().tail()\n"
   ]
  },
  {
   "cell_type": "code",
   "execution_count": 29,
   "id": "502fdf10",
   "metadata": {},
   "outputs": [
    {
     "data": {
      "text/plain": [
       "2.9400      1\n",
       "9.5864      1\n",
       "14.5170     1\n",
       "15.3684     1\n",
       "668.3600    1\n",
       "Name: collection_recovery_fee, dtype: int64"
      ]
     },
     "execution_count": 29,
     "metadata": {},
     "output_type": "execute_result"
    }
   ],
   "source": [
    "cleaned_data.collection_recovery_fee.value_counts().tail()\n"
   ]
  },
  {
   "cell_type": "code",
   "execution_count": 30,
   "id": "e82d744d",
   "metadata": {},
   "outputs": [],
   "source": [
    "cleaned_data.total_pymnt= round(cleaned_data.total_pymnt,2)\n",
    "cleaned_data.total_rec_late_fee= round(cleaned_data.total_rec_late_fee,2)\n",
    "cleaned_data.collection_recovery_fee= round(cleaned_data.collection_recovery_fee,2)"
   ]
  },
  {
   "cell_type": "code",
   "execution_count": 32,
   "id": "2edb48c0",
   "metadata": {},
   "outputs": [
    {
     "name": "stdout",
     "output_type": "stream",
     "text": [
      "<class 'pandas.core.frame.DataFrame'>\n",
      "RangeIndex: 36433 entries, 0 to 36432\n",
      "Data columns (total 4 columns):\n",
      " #   Column              Non-Null Count  Dtype \n",
      "---  ------              --------------  ----- \n",
      " 0   issue_d             36433 non-null  object\n",
      " 1   earliest_cr_line    36433 non-null  object\n",
      " 2   last_pymnt_d        36433 non-null  object\n",
      " 3   last_credit_pull_d  36433 non-null  object\n",
      "dtypes: object(4)\n",
      "memory usage: 1.1+ MB\n"
     ]
    }
   ],
   "source": [
    "date_time_cols=['issue_d','earliest_cr_line','last_pymnt_d','last_credit_pull_d']\n",
    "cleaned_data[date_time_cols].info()"
   ]
  },
  {
   "cell_type": "code",
   "execution_count": 33,
   "id": "5501e61b",
   "metadata": {},
   "outputs": [],
   "source": [
    "cleaned_data.issue_d = pd.to_datetime(cleaned_data.issue_d, format='%b-%y')\n",
    "cleaned_data.earliest_cr_line = pd.to_datetime(cleaned_data.earliest_cr_line, format='%b-%y')\n",
    "cleaned_data.last_pymnt_d = pd.to_datetime(cleaned_data.last_pymnt_d, format='%b-%y')\n",
    "cleaned_data.last_credit_pull_d = pd.to_datetime(cleaned_data.last_credit_pull_d, format='%b-%y')"
   ]
  },
  {
   "cell_type": "code",
   "execution_count": 34,
   "id": "fb4ae16e",
   "metadata": {},
   "outputs": [
    {
     "name": "stdout",
     "output_type": "stream",
     "text": [
      "<class 'pandas.core.frame.DataFrame'>\n",
      "RangeIndex: 36433 entries, 0 to 36432\n",
      "Data columns (total 4 columns):\n",
      " #   Column              Non-Null Count  Dtype         \n",
      "---  ------              --------------  -----         \n",
      " 0   issue_d             36433 non-null  datetime64[ns]\n",
      " 1   earliest_cr_line    36433 non-null  datetime64[ns]\n",
      " 2   last_pymnt_d        36433 non-null  datetime64[ns]\n",
      " 3   last_credit_pull_d  36433 non-null  datetime64[ns]\n",
      "dtypes: datetime64[ns](4)\n",
      "memory usage: 1.1 MB\n"
     ]
    }
   ],
   "source": [
    "cleaned_data[date_time_cols].info()"
   ]
  },
  {
   "cell_type": "code",
   "execution_count": 35,
   "id": "08ce400b",
   "metadata": {},
   "outputs": [],
   "source": [
    "# dropping Duplicated rows if any,\n",
    "cleaned_data=cleaned_data.drop_duplicates()"
   ]
  },
  {
   "cell_type": "code",
   "execution_count": 36,
   "id": "409c5648",
   "metadata": {},
   "outputs": [
    {
     "data": {
      "text/plain": [
       "count      36433\n",
       "unique       334\n",
       "top       10.99%\n",
       "freq         901\n",
       "Name: int_rate, dtype: object"
      ]
     },
     "execution_count": 36,
     "metadata": {},
     "output_type": "execute_result"
    }
   ],
   "source": [
    "cleaned_data.int_rate.describe()"
   ]
  },
  {
   "cell_type": "code",
   "execution_count": 37,
   "id": "8a020cef",
   "metadata": {},
   "outputs": [
    {
     "data": {
      "text/plain": [
       "count     36433\n",
       "unique     1082\n",
       "top          0%\n",
       "freq        852\n",
       "Name: revol_util, dtype: object"
      ]
     },
     "execution_count": 37,
     "metadata": {},
     "output_type": "execute_result"
    }
   ],
   "source": [
    "cleaned_data.revol_util.describe()\n"
   ]
  },
  {
   "cell_type": "code",
   "execution_count": 38,
   "id": "3040af18",
   "metadata": {},
   "outputs": [],
   "source": [
    "cleaned_data['int_rate'] = cleaned_data['int_rate'].str.strip('%').astype('float')\n",
    "cleaned_data['revol_util'] = cleaned_data['revol_util'].str.strip('%').astype('float')"
   ]
  },
  {
   "cell_type": "code",
   "execution_count": 39,
   "id": "424538e6",
   "metadata": {},
   "outputs": [
    {
     "name": "stdout",
     "output_type": "stream",
     "text": [
      "<class 'pandas.core.frame.DataFrame'>\n",
      "Int64Index: 36433 entries, 0 to 36432\n",
      "Data columns (total 2 columns):\n",
      " #   Column      Non-Null Count  Dtype  \n",
      "---  ------      --------------  -----  \n",
      " 0   int_rate    36433 non-null  float64\n",
      " 1   revol_util  36433 non-null  float64\n",
      "dtypes: float64(2)\n",
      "memory usage: 853.9 KB\n"
     ]
    }
   ],
   "source": [
    "cleaned_data[['int_rate','revol_util']].info()"
   ]
  },
  {
   "cell_type": "code",
   "execution_count": 40,
   "id": "b350ed03",
   "metadata": {},
   "outputs": [
    {
     "data": {
      "text/plain": [
       "10+ years    8407\n",
       "2 years      4178\n",
       "< 1 year     4052\n",
       "3 years      3914\n",
       "4 years      3297\n",
       "5 years      3129\n",
       "1 year       3026\n",
       "6 years      2121\n",
       "7 years      1697\n",
       "8 years      1405\n",
       "9 years      1207\n",
       "Name: emp_length, dtype: int64"
      ]
     },
     "execution_count": 40,
     "metadata": {},
     "output_type": "execute_result"
    }
   ],
   "source": [
    "cleaned_data.emp_length.value_counts()\n"
   ]
  },
  {
   "cell_type": "markdown",
   "id": "0fad0804",
   "metadata": {},
   "source": [
    "Let us now give a glance to the emp_length column.\n",
    "\n",
    "According to data_dictionary.xlsx,\n",
    "\n",
    "emp_length :\n",
    "Employment length in years. Possible values are between 0 and 10 where 0 means less than one year and 10 means ten or more years.\n",
    "Let's convert the column to have values between 0 and 10. We can do this by creating a dictionary and replacing them with the corresponding values."
   ]
  },
  {
   "cell_type": "code",
   "execution_count": 41,
   "id": "343b5d36",
   "metadata": {},
   "outputs": [
    {
     "data": {
      "text/plain": [
       "10    8407\n",
       "2     4178\n",
       "0     4052\n",
       "3     3914\n",
       "4     3297\n",
       "5     3129\n",
       "1     3026\n",
       "6     2121\n",
       "7     1697\n",
       "8     1405\n",
       "9     1207\n",
       "Name: emp_length, dtype: int64"
      ]
     },
     "execution_count": 41,
     "metadata": {},
     "output_type": "execute_result"
    }
   ],
   "source": [
    "emp_length_dict = {\n",
    "    '< 1 year' : 0,\n",
    "    '1 year' : 1,\n",
    "    '2 years' : 2,\n",
    "    '3 years' : 3,\n",
    "    '4 years' : 4,\n",
    "    '5 years' : 5,\n",
    "    '6 years' : 6,\n",
    "    '7 years' : 7,\n",
    "    '8 years' : 8,\n",
    "    '9 years' : 9,\n",
    "    '10+ years' : 10\n",
    "}\n",
    "\n",
    "\n",
    "cleaned_data = cleaned_data.replace({\"emp_length\": emp_length_dict })\n",
    "cleaned_data.emp_length.value_counts()"
   ]
  },
  {
   "cell_type": "markdown",
   "id": "61ee9159",
   "metadata": {},
   "source": [
    "According to data_dictionary.xlsx,\n",
    "\n",
    "term : The number of payments on the loan. Values are in months and can be either 36 or 60. Let us remove the string months from the values present in the column."
   ]
  },
  {
   "cell_type": "code",
   "execution_count": 42,
   "id": "0bca887d",
   "metadata": {},
   "outputs": [
    {
     "data": {
      "text/plain": [
       " 36 months    26377\n",
       " 60 months    10056\n",
       "Name: term, dtype: int64"
      ]
     },
     "execution_count": 42,
     "metadata": {},
     "output_type": "execute_result"
    }
   ],
   "source": [
    "cleaned_data.term.value_counts()\n"
   ]
  },
  {
   "cell_type": "markdown",
   "id": "15becfe8",
   "metadata": {},
   "source": [
    "--> Spliting the earliest_cr_line_month and earliest_cr_line_year We shall also split the available date into month and year attributes."
   ]
  },
  {
   "cell_type": "code",
   "execution_count": 43,
   "id": "988017b0",
   "metadata": {},
   "outputs": [
    {
     "data": {
      "text/plain": [
       "36    26377\n",
       "60    10056\n",
       "Name: term, dtype: int64"
      ]
     },
     "execution_count": 43,
     "metadata": {},
     "output_type": "execute_result"
    }
   ],
   "source": [
    "cleaned_data['term'] = cleaned_data.term.apply(lambda x: x.split()[0])\n",
    "cleaned_data.term.value_counts()"
   ]
  },
  {
   "cell_type": "code",
   "execution_count": 44,
   "id": "87003d1c",
   "metadata": {},
   "outputs": [],
   "source": [
    "cleaned_data['earliest_cr_line_month'] = cleaned_data['earliest_cr_line'].dt.month\n",
    "cleaned_data['earliest_cr_line_year'] = cleaned_data['earliest_cr_line'].dt.year"
   ]
  },
  {
   "cell_type": "code",
   "execution_count": 45,
   "id": "00cac9bf",
   "metadata": {},
   "outputs": [
    {
     "data": {
      "text/plain": [
       "50"
      ]
     },
     "execution_count": 45,
     "metadata": {},
     "output_type": "execute_result"
    }
   ],
   "source": [
    "len(cleaned_data[cleaned_data['earliest_cr_line_year'] > 2011 ])"
   ]
  },
  {
   "cell_type": "markdown",
   "id": "14326232",
   "metadata": {},
   "source": [
    "we observe that there are 50 records with the earliest credit line date greater than 2011 (which is the max range of the data we have). Let us analyse further."
   ]
  },
  {
   "cell_type": "code",
   "execution_count": 46,
   "id": "479900f8",
   "metadata": {},
   "outputs": [
    {
     "data": {
      "text/plain": [
       "array([2068, 2067, 2065, 2063, 2066, 2062, 2056, 2046, 2050, 2064, 2054],\n",
       "      dtype=int64)"
      ]
     },
     "execution_count": 46,
     "metadata": {},
     "output_type": "execute_result"
    }
   ],
   "source": [
    "cleaned_data[cleaned_data['earliest_cr_line_year'] > 2011 ]['earliest_cr_line_year'].unique()"
   ]
  },
  {
   "cell_type": "code",
   "execution_count": 47,
   "id": "75d8188a",
   "metadata": {},
   "outputs": [],
   "source": [
    "cleaned_data.loc[cleaned_data['earliest_cr_line_year'] > 2011 , 'earliest_cr_line_year'] = cleaned_data['earliest_cr_line_year'] - 100\n"
   ]
  },
  {
   "cell_type": "code",
   "execution_count": 48,
   "id": "c9ab92b8",
   "metadata": {},
   "outputs": [
    {
     "data": {
      "text/plain": [
       "earliest_cr_line_year\n",
       "1946       1\n",
       "1950       1\n",
       "1954       1\n",
       "1956       1\n",
       "1962       3\n",
       "1963       4\n",
       "1964       2\n",
       "1965       6\n",
       "1966       7\n",
       "1967      12\n",
       "1968      12\n",
       "1969      22\n",
       "1970      35\n",
       "1971      34\n",
       "1972      33\n",
       "1973      41\n",
       "1974      51\n",
       "1975      57\n",
       "1976      73\n",
       "1977      90\n",
       "1978     130\n",
       "1979     141\n",
       "1980     150\n",
       "1981     154\n",
       "1982     196\n",
       "1983     296\n",
       "1984     360\n",
       "1985     406\n",
       "1986     447\n",
       "1987     565\n",
       "1988     671\n",
       "1989     781\n",
       "1990     944\n",
       "1991     884\n",
       "1992     970\n",
       "1993    1398\n",
       "1994    1860\n",
       "1995    1974\n",
       "1996    2074\n",
       "1997    2271\n",
       "1998    2645\n",
       "1999    2763\n",
       "2000    3034\n",
       "2001    2363\n",
       "2002    1794\n",
       "2003    1740\n",
       "2004    1639\n",
       "2005    1406\n",
       "2006    1079\n",
       "2007     668\n",
       "2008     144\n",
       "Name: loan_amnt, dtype: int64"
      ]
     },
     "execution_count": 48,
     "metadata": {},
     "output_type": "execute_result"
    }
   ],
   "source": [
    "cleaned_data.groupby('earliest_cr_line_year').loan_amnt.count()\n"
   ]
  },
  {
   "cell_type": "markdown",
   "id": "5564bacb",
   "metadata": {},
   "source": [
    "Let us split the available date into month and year columns respectively."
   ]
  },
  {
   "cell_type": "code",
   "execution_count": 49,
   "id": "96e3d4b9",
   "metadata": {},
   "outputs": [],
   "source": [
    "cleaned_data['issue_d_month'] = cleaned_data['issue_d'].dt.month\n",
    "cleaned_data['issue_d_year'] = cleaned_data['issue_d'].dt.year"
   ]
  },
  {
   "cell_type": "code",
   "execution_count": 50,
   "id": "91e59237",
   "metadata": {},
   "outputs": [],
   "source": [
    "cleaned_data.to_csv('MASTER.csv', encoding='ISO-8859-1', index=False)"
   ]
  },
  {
   "cell_type": "code",
   "execution_count": 51,
   "id": "5bf9135f",
   "metadata": {},
   "outputs": [],
   "source": [
    "master=pd.read_csv('MASTER.csv', encoding='ISO-8859-1')\n"
   ]
  },
  {
   "cell_type": "code",
   "execution_count": 52,
   "id": "9b26f4c3",
   "metadata": {},
   "outputs": [
    {
     "name": "stdout",
     "output_type": "stream",
     "text": [
      "(36433, 42)\n"
     ]
    },
    {
     "data": {
      "text/plain": [
       "Fully Paid     30424\n",
       "Charged Off     4943\n",
       "Current         1066\n",
       "Name: loan_status, dtype: int64"
      ]
     },
     "execution_count": 52,
     "metadata": {},
     "output_type": "execute_result"
    }
   ],
   "source": [
    "print(master.shape)\n",
    "master.loan_status.value_counts()"
   ]
  },
  {
   "cell_type": "markdown",
   "id": "3d7e17c0",
   "metadata": {},
   "source": [
    "We see that loans are : \n",
    "\n",
    "Fully Paid     30424\n",
    "Charged Off     4943\n",
    "Current         1066"
   ]
  }
 ],
 "metadata": {
  "kernelspec": {
   "display_name": "Python 3 (ipykernel)",
   "language": "python",
   "name": "python3"
  },
  "language_info": {
   "codemirror_mode": {
    "name": "ipython",
    "version": 3
   },
   "file_extension": ".py",
   "mimetype": "text/x-python",
   "name": "python",
   "nbconvert_exporter": "python",
   "pygments_lexer": "ipython3",
   "version": "3.9.7"
  }
 },
 "nbformat": 4,
 "nbformat_minor": 5
}
